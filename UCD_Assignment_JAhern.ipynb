{
 "cells": [
  {
   "cell_type": "code",
   "execution_count": 323,
   "id": "c26bff79",
   "metadata": {},
   "outputs": [],
   "source": [
    "# Importing the required packages\n",
    "import pandas as pd\n",
    "import seaborn as sns\n",
    "import matplotlib.pyplot as plt\n",
    "import numpy as np"
   ]
  },
  {
   "cell_type": "code",
   "execution_count": 390,
   "id": "3d048e6f",
   "metadata": {},
   "outputs": [],
   "source": [
    "# Importing the HBO Max Dataset and specifying the index column\n",
    "hbo = pd.read_csv ('titles.csv', index_col=0)"
   ]
  },
  {
   "cell_type": "code",
   "execution_count": 391,
   "id": "5362c0a3",
   "metadata": {
    "scrolled": false
   },
   "outputs": [
    {
     "name": "stdout",
     "output_type": "stream",
     "text": [
      "<class 'pandas.core.frame.DataFrame'>\n",
      "Index: 3294 entries, tm155702 to tm989132\n",
      "Data columns (total 14 columns):\n",
      " #   Column                Non-Null Count  Dtype  \n",
      "---  ------                --------------  -----  \n",
      " 0   title                 3294 non-null   object \n",
      " 1   type                  3294 non-null   object \n",
      " 2   description           3282 non-null   object \n",
      " 3   release_year          3294 non-null   int64  \n",
      " 4   age_certification     2086 non-null   object \n",
      " 5   runtime               3294 non-null   int64  \n",
      " 6   genres                3294 non-null   object \n",
      " 7   production_countries  3294 non-null   object \n",
      " 8   seasons               756 non-null    float64\n",
      " 9   imdb_id               2968 non-null   object \n",
      " 10  imdb_score            2922 non-null   float64\n",
      " 11  imdb_votes            2911 non-null   float64\n",
      " 12  tmdb_popularity       3261 non-null   float64\n",
      " 13  tmdb_score            3026 non-null   float64\n",
      "dtypes: float64(5), int64(2), object(7)\n",
      "memory usage: 386.0+ KB\n"
     ]
    }
   ],
   "source": [
    "hbo.info()\n",
    "# From this info I can see that there are some columns that I don't plan on using, so I will remove them later\n",
    "# 3294 movies and tv shows are in this dataset with 14 columns in total"
   ]
  },
  {
   "cell_type": "markdown",
   "id": "fb65216d",
   "metadata": {},
   "source": [
    "# Data Overview"
   ]
  },
  {
   "cell_type": "code",
   "execution_count": 392,
   "id": "0b4a815e",
   "metadata": {
    "scrolled": false
   },
   "outputs": [
    {
     "name": "stdout",
     "output_type": "stream",
     "text": [
      "                                                    title   type  \\\n",
      "id                                                                 \n",
      "tm155702                                 The Wizard of Oz  MOVIE   \n",
      "tm83648                                      Citizen Kane  MOVIE   \n",
      "tm77588                                        Casablanca  MOVIE   \n",
      "tm82363                                     The Big Sleep  MOVIE   \n",
      "tm84701                                The Maltese Falcon  MOVIE   \n",
      "...                                                   ...    ...   \n",
      "tm1082718  Romeo Santos: Utopia Live from MetLife Stadium  MOVIE   \n",
      "tm1067128                                       Algo Azul  MOVIE   \n",
      "tm1121489                        Entre Nos: What She Said  MOVIE   \n",
      "tm1121486                        Entre Nos: The Winners 2  MOVIE   \n",
      "tm989132                              The Infamous Future  MOVIE   \n",
      "\n",
      "                                                 description  release_year  \\\n",
      "id                                                                           \n",
      "tm155702   Young Dorothy finds herself in a magical world...          1939   \n",
      "tm83648    Newspaper magnate, Charles Foster Kane is take...          1941   \n",
      "tm77588    In Casablanca, Morocco in December 1941, a cyn...          1942   \n",
      "tm82363    Private Investigator Philip Marlowe is hired b...          1946   \n",
      "tm84701    A private detective takes on a case that invol...          1941   \n",
      "...                                                      ...           ...   \n",
      "tm1082718  In this Concert he focuses on the star and mos...          2021   \n",
      "tm1067128                     Romantic comedy...coming soon.          2021   \n",
      "tm1121489  A stand-up comedy special featuring Shari Diaz...          2021   \n",
      "tm1121486  Comedy special starring winners of the second ...          2021   \n",
      "tm989132   The untold story of New York City's Eagle Acad...          2021   \n",
      "\n",
      "          age_certification  runtime                            genres  \\\n",
      "id                                                                       \n",
      "tm155702                  G      102             ['fantasy', 'family']   \n",
      "tm83648                  PG      119                         ['drama']   \n",
      "tm77588                  PG      102       ['drama', 'romance', 'war']   \n",
      "tm82363                 NaN      116             ['thriller', 'crime']   \n",
      "tm84701                 NaN      100  ['thriller', 'romance', 'crime']   \n",
      "...                     ...      ...                               ...   \n",
      "tm1082718               NaN      103              ['romance', 'music']   \n",
      "tm1067128               NaN       90                        ['comedy']   \n",
      "tm1121489               NaN       28                        ['comedy']   \n",
      "tm1121486               NaN       28                        ['comedy']   \n",
      "tm989132                NaN       40                 ['documentation']   \n",
      "\n",
      "          production_countries  seasons     imdb_id  imdb_score  imdb_votes  \\\n",
      "id                                                                            \n",
      "tm155702                ['US']      NaN   tt0032138         8.1    389774.0   \n",
      "tm83648                 ['US']      NaN   tt0033467         8.3    433804.0   \n",
      "tm77588                 ['US']      NaN   tt0034583         8.5    558849.0   \n",
      "tm82363                 ['US']      NaN   tt0038355         7.9     84494.0   \n",
      "tm84701                 ['US']      NaN   tt0033870         8.0    156603.0   \n",
      "...                        ...      ...         ...         ...         ...   \n",
      "tm1082718               ['PR']      NaN         NaN         NaN         NaN   \n",
      "tm1067128               ['PA']      NaN   tt9257620         5.9        50.0   \n",
      "tm1121489                   []      NaN  tt15532762         NaN         NaN   \n",
      "tm1121486                   []      NaN  tt15532736         NaN         NaN   \n",
      "tm989132                ['US']      NaN   tt9064760         NaN         NaN   \n",
      "\n",
      "           tmdb_popularity  tmdb_score  \n",
      "id                                      \n",
      "tm155702            41.442         7.6  \n",
      "tm83648             14.383         8.0  \n",
      "tm77588             20.087         8.2  \n",
      "tm82363             12.911         7.7  \n",
      "tm84701             12.788         7.8  \n",
      "...                    ...         ...  \n",
      "tm1082718            8.425         8.1  \n",
      "tm1067128            1.400         2.0  \n",
      "tm1121489              NaN         NaN  \n",
      "tm1121486              NaN         NaN  \n",
      "tm989132             1.101         5.3  \n",
      "\n",
      "[3294 rows x 14 columns]\n"
     ]
    }
   ],
   "source": [
    "print(hbo)"
   ]
  },
  {
   "cell_type": "code",
   "execution_count": 398,
   "id": "650c2852",
   "metadata": {},
   "outputs": [
    {
     "data": {
      "text/html": [
       "<div>\n",
       "<style scoped>\n",
       "    .dataframe tbody tr th:only-of-type {\n",
       "        vertical-align: middle;\n",
       "    }\n",
       "\n",
       "    .dataframe tbody tr th {\n",
       "        vertical-align: top;\n",
       "    }\n",
       "\n",
       "    .dataframe thead th {\n",
       "        text-align: right;\n",
       "    }\n",
       "</style>\n",
       "<table border=\"1\" class=\"dataframe\">\n",
       "  <thead>\n",
       "    <tr style=\"text-align: right;\">\n",
       "      <th></th>\n",
       "      <th>title</th>\n",
       "      <th>type</th>\n",
       "      <th>description</th>\n",
       "      <th>release_year</th>\n",
       "      <th>age_certification</th>\n",
       "      <th>runtime</th>\n",
       "      <th>genres</th>\n",
       "      <th>production_countries</th>\n",
       "      <th>seasons</th>\n",
       "      <th>imdb_id</th>\n",
       "      <th>imdb_score</th>\n",
       "      <th>imdb_votes</th>\n",
       "      <th>tmdb_popularity</th>\n",
       "      <th>tmdb_score</th>\n",
       "    </tr>\n",
       "    <tr>\n",
       "      <th>id</th>\n",
       "      <th></th>\n",
       "      <th></th>\n",
       "      <th></th>\n",
       "      <th></th>\n",
       "      <th></th>\n",
       "      <th></th>\n",
       "      <th></th>\n",
       "      <th></th>\n",
       "      <th></th>\n",
       "      <th></th>\n",
       "      <th></th>\n",
       "      <th></th>\n",
       "      <th></th>\n",
       "      <th></th>\n",
       "    </tr>\n",
       "  </thead>\n",
       "  <tbody>\n",
       "    <tr>\n",
       "      <th>tm155702</th>\n",
       "      <td>The Wizard of Oz</td>\n",
       "      <td>MOVIE</td>\n",
       "      <td>Young Dorothy finds herself in a magical world...</td>\n",
       "      <td>1939</td>\n",
       "      <td>G</td>\n",
       "      <td>102</td>\n",
       "      <td>['fantasy', 'family']</td>\n",
       "      <td>['US']</td>\n",
       "      <td>NaN</td>\n",
       "      <td>tt0032138</td>\n",
       "      <td>8.1</td>\n",
       "      <td>389774.0</td>\n",
       "      <td>41.442</td>\n",
       "      <td>7.6</td>\n",
       "    </tr>\n",
       "    <tr>\n",
       "      <th>tm83648</th>\n",
       "      <td>Citizen Kane</td>\n",
       "      <td>MOVIE</td>\n",
       "      <td>Newspaper magnate, Charles Foster Kane is take...</td>\n",
       "      <td>1941</td>\n",
       "      <td>PG</td>\n",
       "      <td>119</td>\n",
       "      <td>['drama']</td>\n",
       "      <td>['US']</td>\n",
       "      <td>NaN</td>\n",
       "      <td>tt0033467</td>\n",
       "      <td>8.3</td>\n",
       "      <td>433804.0</td>\n",
       "      <td>14.383</td>\n",
       "      <td>8.0</td>\n",
       "    </tr>\n",
       "    <tr>\n",
       "      <th>tm77588</th>\n",
       "      <td>Casablanca</td>\n",
       "      <td>MOVIE</td>\n",
       "      <td>In Casablanca, Morocco in December 1941, a cyn...</td>\n",
       "      <td>1942</td>\n",
       "      <td>PG</td>\n",
       "      <td>102</td>\n",
       "      <td>['drama', 'romance', 'war']</td>\n",
       "      <td>['US']</td>\n",
       "      <td>NaN</td>\n",
       "      <td>tt0034583</td>\n",
       "      <td>8.5</td>\n",
       "      <td>558849.0</td>\n",
       "      <td>20.087</td>\n",
       "      <td>8.2</td>\n",
       "    </tr>\n",
       "    <tr>\n",
       "      <th>tm82363</th>\n",
       "      <td>The Big Sleep</td>\n",
       "      <td>MOVIE</td>\n",
       "      <td>Private Investigator Philip Marlowe is hired b...</td>\n",
       "      <td>1946</td>\n",
       "      <td>NaN</td>\n",
       "      <td>116</td>\n",
       "      <td>['thriller', 'crime']</td>\n",
       "      <td>['US']</td>\n",
       "      <td>NaN</td>\n",
       "      <td>tt0038355</td>\n",
       "      <td>7.9</td>\n",
       "      <td>84494.0</td>\n",
       "      <td>12.911</td>\n",
       "      <td>7.7</td>\n",
       "    </tr>\n",
       "    <tr>\n",
       "      <th>tm84701</th>\n",
       "      <td>The Maltese Falcon</td>\n",
       "      <td>MOVIE</td>\n",
       "      <td>A private detective takes on a case that invol...</td>\n",
       "      <td>1941</td>\n",
       "      <td>NaN</td>\n",
       "      <td>100</td>\n",
       "      <td>['thriller', 'romance', 'crime']</td>\n",
       "      <td>['US']</td>\n",
       "      <td>NaN</td>\n",
       "      <td>tt0033870</td>\n",
       "      <td>8.0</td>\n",
       "      <td>156603.0</td>\n",
       "      <td>12.788</td>\n",
       "      <td>7.8</td>\n",
       "    </tr>\n",
       "  </tbody>\n",
       "</table>\n",
       "</div>"
      ],
      "text/plain": [
       "                       title   type  \\\n",
       "id                                    \n",
       "tm155702    The Wizard of Oz  MOVIE   \n",
       "tm83648         Citizen Kane  MOVIE   \n",
       "tm77588           Casablanca  MOVIE   \n",
       "tm82363        The Big Sleep  MOVIE   \n",
       "tm84701   The Maltese Falcon  MOVIE   \n",
       "\n",
       "                                                description  release_year  \\\n",
       "id                                                                          \n",
       "tm155702  Young Dorothy finds herself in a magical world...          1939   \n",
       "tm83648   Newspaper magnate, Charles Foster Kane is take...          1941   \n",
       "tm77588   In Casablanca, Morocco in December 1941, a cyn...          1942   \n",
       "tm82363   Private Investigator Philip Marlowe is hired b...          1946   \n",
       "tm84701   A private detective takes on a case that invol...          1941   \n",
       "\n",
       "         age_certification  runtime                            genres  \\\n",
       "id                                                                      \n",
       "tm155702                 G      102             ['fantasy', 'family']   \n",
       "tm83648                 PG      119                         ['drama']   \n",
       "tm77588                 PG      102       ['drama', 'romance', 'war']   \n",
       "tm82363                NaN      116             ['thriller', 'crime']   \n",
       "tm84701                NaN      100  ['thriller', 'romance', 'crime']   \n",
       "\n",
       "         production_countries  seasons    imdb_id  imdb_score  imdb_votes  \\\n",
       "id                                                                          \n",
       "tm155702               ['US']      NaN  tt0032138         8.1    389774.0   \n",
       "tm83648                ['US']      NaN  tt0033467         8.3    433804.0   \n",
       "tm77588                ['US']      NaN  tt0034583         8.5    558849.0   \n",
       "tm82363                ['US']      NaN  tt0038355         7.9     84494.0   \n",
       "tm84701                ['US']      NaN  tt0033870         8.0    156603.0   \n",
       "\n",
       "          tmdb_popularity  tmdb_score  \n",
       "id                                     \n",
       "tm155702           41.442         7.6  \n",
       "tm83648            14.383         8.0  \n",
       "tm77588            20.087         8.2  \n",
       "tm82363            12.911         7.7  \n",
       "tm84701            12.788         7.8  "
      ]
     },
     "execution_count": 398,
     "metadata": {},
     "output_type": "execute_result"
    }
   ],
   "source": [
    "# Taking a look at the first 5 rows of the dataset, from here I can see that I will need to remove the description\n",
    "# column along with the square brackets and single quotation marks from the values in two columns.\n",
    "hbo.head()"
   ]
  },
  {
   "cell_type": "code",
   "execution_count": 399,
   "id": "de4b898b",
   "metadata": {},
   "outputs": [
    {
     "data": {
      "text/plain": [
       "0"
      ]
     },
     "execution_count": 399,
     "metadata": {},
     "output_type": "execute_result"
    }
   ],
   "source": [
    "# Checking for duplicate entries, thankfully there are none so i don't need to drop any rows at this point\n",
    "hbo.duplicated().sum()"
   ]
  },
  {
   "cell_type": "code",
   "execution_count": 400,
   "id": "d710137e",
   "metadata": {
    "scrolled": true
   },
   "outputs": [
    {
     "data": {
      "text/plain": [
       "title                      0\n",
       "type                       0\n",
       "description               12\n",
       "release_year               0\n",
       "age_certification       1208\n",
       "runtime                    0\n",
       "genres                     0\n",
       "production_countries       0\n",
       "seasons                 2538\n",
       "imdb_id                  326\n",
       "imdb_score               372\n",
       "imdb_votes               383\n",
       "tmdb_popularity           33\n",
       "tmdb_score               268\n",
       "dtype: int64"
      ]
     },
     "execution_count": 400,
     "metadata": {},
     "output_type": "execute_result"
    }
   ],
   "source": [
    "# Checking for missing values\n",
    "hbo.isnull().sum()"
   ]
  },
  {
   "cell_type": "markdown",
   "id": "265b38d3",
   "metadata": {},
   "source": [
    "# Clean and Validate"
   ]
  },
  {
   "cell_type": "code",
   "execution_count": 401,
   "id": "3e2ae59d",
   "metadata": {},
   "outputs": [],
   "source": [
    "# Making a copy of the HBO dataset\n",
    "hbo_df = hbo.copy()"
   ]
  },
  {
   "cell_type": "code",
   "execution_count": 402,
   "id": "bda4a389",
   "metadata": {},
   "outputs": [],
   "source": [
    "# Removing some columns that I don't plan on using\n",
    "hbo_df = hbo_df.drop(['description', 'imdb_id', 'imdb_votes', 'tmdb_popularity', 'tmdb_score'], axis=1)"
   ]
  },
  {
   "cell_type": "code",
   "execution_count": 403,
   "id": "50c44d85",
   "metadata": {},
   "outputs": [],
   "source": [
    "# Removing unnecessary square brackets and single quotes from two columns\n",
    "hbo_df['genres'] = hbo_df['genres'].str.replace(r'[][]', '', regex=True)\n",
    "hbo_df['genres'] = hbo_df['genres'].str.replace(r\"'\", '', regex=True)\n",
    "hbo_df['production_countries'] = hbo_df['production_countries'].str.replace(r'[][]', '', regex=True)\n",
    "hbo_df['production_countries'] = hbo_df['production_countries'].str.replace(r\"'\", '', regex=True)"
   ]
  },
  {
   "cell_type": "code",
   "execution_count": 404,
   "id": "caac85b5",
   "metadata": {},
   "outputs": [],
   "source": [
    "# Cleaning up column titles before moving on\n",
    "hbo_df = hbo_df.rename(columns={\"title\":\"Title\", \"type\":\"Type\", \"release_year\":\"Release Year\"\n",
    "                                       , \"age_certification\":\"Age Certification\", \"runtime\":\"Runtime\"\n",
    "                                       , \"genres\":\"Genres\", \"production_countries\":\"Production Countries\"\n",
    "                                       , \"seasons\":\"Seasons\", \"imdb_score\":\"IMDB Rating\"}) "
   ]
  },
  {
   "cell_type": "code",
   "execution_count": 405,
   "id": "aa841005",
   "metadata": {},
   "outputs": [
    {
     "name": "stdout",
     "output_type": "stream",
     "text": [
      "<class 'pandas.core.frame.DataFrame'>\n",
      "Index: 3294 entries, tm155702 to tm989132\n",
      "Data columns (total 9 columns):\n",
      " #   Column                Non-Null Count  Dtype  \n",
      "---  ------                --------------  -----  \n",
      " 0   Title                 3294 non-null   object \n",
      " 1   Type                  3294 non-null   object \n",
      " 2   Release Year          3294 non-null   int64  \n",
      " 3   Age Certification     2086 non-null   object \n",
      " 4   Runtime               3294 non-null   int64  \n",
      " 5   Genres                3294 non-null   object \n",
      " 6   Production Countries  3294 non-null   object \n",
      " 7   Seasons               756 non-null    float64\n",
      " 8   IMDB Rating           2922 non-null   float64\n",
      "dtypes: float64(2), int64(2), object(5)\n",
      "memory usage: 257.3+ KB\n"
     ]
    }
   ],
   "source": [
    "hbo_df.info()"
   ]
  },
  {
   "cell_type": "code",
   "execution_count": 412,
   "id": "510763e9",
   "metadata": {
    "scrolled": true
   },
   "outputs": [
    {
     "data": {
      "text/html": [
       "<div>\n",
       "<style scoped>\n",
       "    .dataframe tbody tr th:only-of-type {\n",
       "        vertical-align: middle;\n",
       "    }\n",
       "\n",
       "    .dataframe tbody tr th {\n",
       "        vertical-align: top;\n",
       "    }\n",
       "\n",
       "    .dataframe thead th {\n",
       "        text-align: right;\n",
       "    }\n",
       "</style>\n",
       "<table border=\"1\" class=\"dataframe\">\n",
       "  <thead>\n",
       "    <tr style=\"text-align: right;\">\n",
       "      <th></th>\n",
       "      <th>Title</th>\n",
       "      <th>Type</th>\n",
       "      <th>Release Year</th>\n",
       "      <th>Age Certification</th>\n",
       "      <th>Runtime</th>\n",
       "      <th>Genres</th>\n",
       "      <th>Production Countries</th>\n",
       "      <th>Seasons</th>\n",
       "      <th>IMDB Rating</th>\n",
       "    </tr>\n",
       "    <tr>\n",
       "      <th>id</th>\n",
       "      <th></th>\n",
       "      <th></th>\n",
       "      <th></th>\n",
       "      <th></th>\n",
       "      <th></th>\n",
       "      <th></th>\n",
       "      <th></th>\n",
       "      <th></th>\n",
       "      <th></th>\n",
       "    </tr>\n",
       "  </thead>\n",
       "  <tbody>\n",
       "    <tr>\n",
       "      <th>tm155702</th>\n",
       "      <td>The Wizard of Oz</td>\n",
       "      <td>MOVIE</td>\n",
       "      <td>1939</td>\n",
       "      <td>G</td>\n",
       "      <td>102</td>\n",
       "      <td>fantasy, family</td>\n",
       "      <td>US</td>\n",
       "      <td>NaN</td>\n",
       "      <td>8.1</td>\n",
       "    </tr>\n",
       "    <tr>\n",
       "      <th>tm83648</th>\n",
       "      <td>Citizen Kane</td>\n",
       "      <td>MOVIE</td>\n",
       "      <td>1941</td>\n",
       "      <td>PG</td>\n",
       "      <td>119</td>\n",
       "      <td>drama</td>\n",
       "      <td>US</td>\n",
       "      <td>NaN</td>\n",
       "      <td>8.3</td>\n",
       "    </tr>\n",
       "    <tr>\n",
       "      <th>tm77588</th>\n",
       "      <td>Casablanca</td>\n",
       "      <td>MOVIE</td>\n",
       "      <td>1942</td>\n",
       "      <td>PG</td>\n",
       "      <td>102</td>\n",
       "      <td>drama, romance, war</td>\n",
       "      <td>US</td>\n",
       "      <td>NaN</td>\n",
       "      <td>8.5</td>\n",
       "    </tr>\n",
       "    <tr>\n",
       "      <th>tm82363</th>\n",
       "      <td>The Big Sleep</td>\n",
       "      <td>MOVIE</td>\n",
       "      <td>1946</td>\n",
       "      <td>NaN</td>\n",
       "      <td>116</td>\n",
       "      <td>thriller, crime</td>\n",
       "      <td>US</td>\n",
       "      <td>NaN</td>\n",
       "      <td>7.9</td>\n",
       "    </tr>\n",
       "    <tr>\n",
       "      <th>tm84701</th>\n",
       "      <td>The Maltese Falcon</td>\n",
       "      <td>MOVIE</td>\n",
       "      <td>1941</td>\n",
       "      <td>NaN</td>\n",
       "      <td>100</td>\n",
       "      <td>thriller, romance, crime</td>\n",
       "      <td>US</td>\n",
       "      <td>NaN</td>\n",
       "      <td>8.0</td>\n",
       "    </tr>\n",
       "  </tbody>\n",
       "</table>\n",
       "</div>"
      ],
      "text/plain": [
       "                       Title   Type  Release Year Age Certification  Runtime  \\\n",
       "id                                                                             \n",
       "tm155702    The Wizard of Oz  MOVIE          1939                 G      102   \n",
       "tm83648         Citizen Kane  MOVIE          1941                PG      119   \n",
       "tm77588           Casablanca  MOVIE          1942                PG      102   \n",
       "tm82363        The Big Sleep  MOVIE          1946               NaN      116   \n",
       "tm84701   The Maltese Falcon  MOVIE          1941               NaN      100   \n",
       "\n",
       "                            Genres Production Countries  Seasons  IMDB Rating  \n",
       "id                                                                             \n",
       "tm155702           fantasy, family                   US      NaN          8.1  \n",
       "tm83648                      drama                   US      NaN          8.3  \n",
       "tm77588        drama, romance, war                   US      NaN          8.5  \n",
       "tm82363            thriller, crime                   US      NaN          7.9  \n",
       "tm84701   thriller, romance, crime                   US      NaN          8.0  "
      ]
     },
     "execution_count": 412,
     "metadata": {},
     "output_type": "execute_result"
    }
   ],
   "source": [
    "# Checking to see how it looks and for any issues before moving on\n",
    "hbo_df.head()"
   ]
  },
  {
   "cell_type": "markdown",
   "id": "1170755f",
   "metadata": {},
   "source": [
    "# Adding another dataset and merging"
   ]
  },
  {
   "cell_type": "code",
   "execution_count": 421,
   "id": "cfa97f84",
   "metadata": {},
   "outputs": [],
   "source": [
    "# Importing another HBO Max dataset containing director and actor/actress info for the movies and shows  in the \n",
    "# dataset above, I am setting the \"role\" column as the index as I will now be subsetting the dataframe with with .loc\n",
    "credits = pd.read_csv ('credits.csv', index_col=4)"
   ]
  },
  {
   "cell_type": "code",
   "execution_count": 422,
   "id": "8d007f59",
   "metadata": {
    "scrolled": true
   },
   "outputs": [
    {
     "name": "stdout",
     "output_type": "stream",
     "text": [
      "<class 'pandas.core.frame.DataFrame'>\n",
      "Index: 66393 entries, ACTOR to DIRECTOR\n",
      "Data columns (total 4 columns):\n",
      " #   Column     Non-Null Count  Dtype \n",
      "---  ------     --------------  ----- \n",
      " 0   person_id  66393 non-null  int64 \n",
      " 1   id         66393 non-null  object\n",
      " 2   name       66393 non-null  object\n",
      " 3   character  61888 non-null  object\n",
      "dtypes: int64(1), object(3)\n",
      "memory usage: 2.5+ MB\n"
     ]
    }
   ],
   "source": [
    "# 66393 rows with 4 columns\n",
    "credits.info()"
   ]
  },
  {
   "cell_type": "code",
   "execution_count": 423,
   "id": "636a7314",
   "metadata": {
    "scrolled": true
   },
   "outputs": [
    {
     "data": {
      "text/html": [
       "<div>\n",
       "<style scoped>\n",
       "    .dataframe tbody tr th:only-of-type {\n",
       "        vertical-align: middle;\n",
       "    }\n",
       "\n",
       "    .dataframe tbody tr th {\n",
       "        vertical-align: top;\n",
       "    }\n",
       "\n",
       "    .dataframe thead th {\n",
       "        text-align: right;\n",
       "    }\n",
       "</style>\n",
       "<table border=\"1\" class=\"dataframe\">\n",
       "  <thead>\n",
       "    <tr style=\"text-align: right;\">\n",
       "      <th></th>\n",
       "      <th>person_id</th>\n",
       "      <th>id</th>\n",
       "      <th>name</th>\n",
       "      <th>character</th>\n",
       "    </tr>\n",
       "    <tr>\n",
       "      <th>role</th>\n",
       "      <th></th>\n",
       "      <th></th>\n",
       "      <th></th>\n",
       "      <th></th>\n",
       "    </tr>\n",
       "  </thead>\n",
       "  <tbody>\n",
       "    <tr>\n",
       "      <th>ACTOR</th>\n",
       "      <td>60017</td>\n",
       "      <td>tm155702</td>\n",
       "      <td>Judy Garland</td>\n",
       "      <td>Dorothy Gale</td>\n",
       "    </tr>\n",
       "    <tr>\n",
       "      <th>ACTOR</th>\n",
       "      <td>53496</td>\n",
       "      <td>tm155702</td>\n",
       "      <td>Ray Bolger</td>\n",
       "      <td>Hunk / Scarecrow</td>\n",
       "    </tr>\n",
       "    <tr>\n",
       "      <th>ACTOR</th>\n",
       "      <td>79549</td>\n",
       "      <td>tm155702</td>\n",
       "      <td>Jack Haley</td>\n",
       "      <td>Hickory / Tin Man</td>\n",
       "    </tr>\n",
       "    <tr>\n",
       "      <th>ACTOR</th>\n",
       "      <td>79548</td>\n",
       "      <td>tm155702</td>\n",
       "      <td>Bert Lahr</td>\n",
       "      <td>Zeke / Cowardly Lion</td>\n",
       "    </tr>\n",
       "    <tr>\n",
       "      <th>ACTOR</th>\n",
       "      <td>60995</td>\n",
       "      <td>tm155702</td>\n",
       "      <td>Margaret Hamilton</td>\n",
       "      <td>Elmira Gulch / Wicked Witch of the West</td>\n",
       "    </tr>\n",
       "  </tbody>\n",
       "</table>\n",
       "</div>"
      ],
      "text/plain": [
       "       person_id        id               name  \\\n",
       "role                                            \n",
       "ACTOR      60017  tm155702       Judy Garland   \n",
       "ACTOR      53496  tm155702         Ray Bolger   \n",
       "ACTOR      79549  tm155702         Jack Haley   \n",
       "ACTOR      79548  tm155702          Bert Lahr   \n",
       "ACTOR      60995  tm155702  Margaret Hamilton   \n",
       "\n",
       "                                     character  \n",
       "role                                            \n",
       "ACTOR                             Dorothy Gale  \n",
       "ACTOR                         Hunk / Scarecrow  \n",
       "ACTOR                        Hickory / Tin Man  \n",
       "ACTOR                     Zeke / Cowardly Lion  \n",
       "ACTOR  Elmira Gulch / Wicked Witch of the West  "
      ]
     },
     "execution_count": 423,
     "metadata": {},
     "output_type": "execute_result"
    }
   ],
   "source": [
    "# Looking at the first 5 rows again\n",
    "credits.head()"
   ]
  },
  {
   "cell_type": "code",
   "execution_count": 433,
   "id": "eb909cf6",
   "metadata": {},
   "outputs": [],
   "source": [
    "# Making a copy of the second dataframe\n",
    "credits_df = credits.copy()"
   ]
  },
  {
   "cell_type": "code",
   "execution_count": 434,
   "id": "cdeba294",
   "metadata": {},
   "outputs": [],
   "source": [
    "# Removing some columns that I don't plan on using\n",
    "credits_df = credits_df.drop(['person_id', 'character'], axis=1)"
   ]
  },
  {
   "cell_type": "code",
   "execution_count": 435,
   "id": "e9150f68",
   "metadata": {},
   "outputs": [
    {
     "name": "stdout",
     "output_type": "stream",
     "text": [
      "<class 'pandas.core.frame.DataFrame'>\n",
      "Index: 2774 entries, DIRECTOR to DIRECTOR\n",
      "Data columns (total 2 columns):\n",
      " #   Column  Non-Null Count  Dtype \n",
      "---  ------  --------------  ----- \n",
      " 0   id      2774 non-null   object\n",
      " 1   name    2774 non-null   object\n",
      "dtypes: object(2)\n",
      "memory usage: 65.0+ KB\n"
     ]
    }
   ],
   "source": [
    "# Subsetting the roles column for Directors only\n",
    "credits_df = credits_df.loc[\"DIRECTOR\"]\n",
    "credits_df.info()"
   ]
  },
  {
   "cell_type": "code",
   "execution_count": 436,
   "id": "c13e1f0e",
   "metadata": {},
   "outputs": [
    {
     "name": "stdout",
     "output_type": "stream",
     "text": [
      "<class 'pandas.core.frame.DataFrame'>\n",
      "Index: 2774 entries, DIRECTOR to DIRECTOR\n",
      "Data columns (total 2 columns):\n",
      " #   Column  Non-Null Count  Dtype \n",
      "---  ------  --------------  ----- \n",
      " 0   id      2774 non-null   object\n",
      " 1   name    2774 non-null   object\n",
      "dtypes: object(2)\n",
      "memory usage: 65.0+ KB\n"
     ]
    }
   ],
   "source": [
    "# I am now left with 2774 rows which I will merge with the existing dataframe\n",
    "credits_df.info()"
   ]
  },
  {
   "cell_type": "code",
   "execution_count": 437,
   "id": "afc456f8",
   "metadata": {},
   "outputs": [],
   "source": [
    "# Setting the index to id before merging, this will drop the role column\n",
    "credits_df = credits_df.set_index(\"id\")"
   ]
  },
  {
   "cell_type": "code",
   "execution_count": 438,
   "id": "b56dd125",
   "metadata": {},
   "outputs": [],
   "source": [
    "# Merging the two dataframes\n",
    "hbo_merged = hbo_df.merge(credits_df, on='id')"
   ]
  },
  {
   "cell_type": "code",
   "execution_count": 439,
   "id": "330fb6ce",
   "metadata": {
    "scrolled": false
   },
   "outputs": [
    {
     "name": "stdout",
     "output_type": "stream",
     "text": [
      "<class 'pandas.core.frame.DataFrame'>\n",
      "Index: 2774 entries, tm155702 to tm989132\n",
      "Data columns (total 10 columns):\n",
      " #   Column                Non-Null Count  Dtype  \n",
      "---  ------                --------------  -----  \n",
      " 0   Title                 2774 non-null   object \n",
      " 1   Type                  2774 non-null   object \n",
      " 2   Release Year          2774 non-null   int64  \n",
      " 3   Age Certification     1637 non-null   object \n",
      " 4   Runtime               2774 non-null   int64  \n",
      " 5   Genres                2774 non-null   object \n",
      " 6   Production Countries  2774 non-null   object \n",
      " 7   Seasons               104 non-null    float64\n",
      " 8   IMDB Rating           2468 non-null   float64\n",
      " 9   name                  2774 non-null   object \n",
      "dtypes: float64(2), int64(2), object(6)\n",
      "memory usage: 238.4+ KB\n"
     ]
    }
   ],
   "source": [
    "hbo_merged.info()"
   ]
  },
  {
   "cell_type": "code",
   "execution_count": 440,
   "id": "231d7cef",
   "metadata": {},
   "outputs": [],
   "source": [
    "# Changing name column title to Director now that i have dropped all other roles with .loc\n",
    "hbo_merged = hbo_merged.rename(columns={\"name\":\"Director\"}) "
   ]
  },
  {
   "cell_type": "code",
   "execution_count": 441,
   "id": "2b467074",
   "metadata": {
    "scrolled": true
   },
   "outputs": [
    {
     "data": {
      "text/html": [
       "<div>\n",
       "<style scoped>\n",
       "    .dataframe tbody tr th:only-of-type {\n",
       "        vertical-align: middle;\n",
       "    }\n",
       "\n",
       "    .dataframe tbody tr th {\n",
       "        vertical-align: top;\n",
       "    }\n",
       "\n",
       "    .dataframe thead th {\n",
       "        text-align: right;\n",
       "    }\n",
       "</style>\n",
       "<table border=\"1\" class=\"dataframe\">\n",
       "  <thead>\n",
       "    <tr style=\"text-align: right;\">\n",
       "      <th></th>\n",
       "      <th>Title</th>\n",
       "      <th>Type</th>\n",
       "      <th>Release Year</th>\n",
       "      <th>Age Certification</th>\n",
       "      <th>Runtime</th>\n",
       "      <th>Genres</th>\n",
       "      <th>Production Countries</th>\n",
       "      <th>Seasons</th>\n",
       "      <th>IMDB Rating</th>\n",
       "      <th>Director</th>\n",
       "    </tr>\n",
       "    <tr>\n",
       "      <th>id</th>\n",
       "      <th></th>\n",
       "      <th></th>\n",
       "      <th></th>\n",
       "      <th></th>\n",
       "      <th></th>\n",
       "      <th></th>\n",
       "      <th></th>\n",
       "      <th></th>\n",
       "      <th></th>\n",
       "      <th></th>\n",
       "    </tr>\n",
       "  </thead>\n",
       "  <tbody>\n",
       "    <tr>\n",
       "      <th>tm155702</th>\n",
       "      <td>The Wizard of Oz</td>\n",
       "      <td>MOVIE</td>\n",
       "      <td>1939</td>\n",
       "      <td>G</td>\n",
       "      <td>102</td>\n",
       "      <td>fantasy, family</td>\n",
       "      <td>US</td>\n",
       "      <td>NaN</td>\n",
       "      <td>8.1</td>\n",
       "      <td>Victor Fleming</td>\n",
       "    </tr>\n",
       "    <tr>\n",
       "      <th>tm83648</th>\n",
       "      <td>Citizen Kane</td>\n",
       "      <td>MOVIE</td>\n",
       "      <td>1941</td>\n",
       "      <td>PG</td>\n",
       "      <td>119</td>\n",
       "      <td>drama</td>\n",
       "      <td>US</td>\n",
       "      <td>NaN</td>\n",
       "      <td>8.3</td>\n",
       "      <td>Orson Welles</td>\n",
       "    </tr>\n",
       "    <tr>\n",
       "      <th>tm77588</th>\n",
       "      <td>Casablanca</td>\n",
       "      <td>MOVIE</td>\n",
       "      <td>1942</td>\n",
       "      <td>PG</td>\n",
       "      <td>102</td>\n",
       "      <td>drama, romance, war</td>\n",
       "      <td>US</td>\n",
       "      <td>NaN</td>\n",
       "      <td>8.5</td>\n",
       "      <td>Michael Curtiz</td>\n",
       "    </tr>\n",
       "    <tr>\n",
       "      <th>tm82363</th>\n",
       "      <td>The Big Sleep</td>\n",
       "      <td>MOVIE</td>\n",
       "      <td>1946</td>\n",
       "      <td>NaN</td>\n",
       "      <td>116</td>\n",
       "      <td>thriller, crime</td>\n",
       "      <td>US</td>\n",
       "      <td>NaN</td>\n",
       "      <td>7.9</td>\n",
       "      <td>Howard Hawks</td>\n",
       "    </tr>\n",
       "    <tr>\n",
       "      <th>tm84701</th>\n",
       "      <td>The Maltese Falcon</td>\n",
       "      <td>MOVIE</td>\n",
       "      <td>1941</td>\n",
       "      <td>NaN</td>\n",
       "      <td>100</td>\n",
       "      <td>thriller, romance, crime</td>\n",
       "      <td>US</td>\n",
       "      <td>NaN</td>\n",
       "      <td>8.0</td>\n",
       "      <td>John Huston</td>\n",
       "    </tr>\n",
       "  </tbody>\n",
       "</table>\n",
       "</div>"
      ],
      "text/plain": [
       "                       Title   Type  Release Year Age Certification  Runtime  \\\n",
       "id                                                                             \n",
       "tm155702    The Wizard of Oz  MOVIE          1939                 G      102   \n",
       "tm83648         Citizen Kane  MOVIE          1941                PG      119   \n",
       "tm77588           Casablanca  MOVIE          1942                PG      102   \n",
       "tm82363        The Big Sleep  MOVIE          1946               NaN      116   \n",
       "tm84701   The Maltese Falcon  MOVIE          1941               NaN      100   \n",
       "\n",
       "                            Genres Production Countries  Seasons  IMDB Rating  \\\n",
       "id                                                                              \n",
       "tm155702           fantasy, family                   US      NaN          8.1   \n",
       "tm83648                      drama                   US      NaN          8.3   \n",
       "tm77588        drama, romance, war                   US      NaN          8.5   \n",
       "tm82363            thriller, crime                   US      NaN          7.9   \n",
       "tm84701   thriller, romance, crime                   US      NaN          8.0   \n",
       "\n",
       "                Director  \n",
       "id                        \n",
       "tm155702  Victor Fleming  \n",
       "tm83648     Orson Welles  \n",
       "tm77588   Michael Curtiz  \n",
       "tm82363     Howard Hawks  \n",
       "tm84701      John Huston  "
      ]
     },
     "execution_count": 441,
     "metadata": {},
     "output_type": "execute_result"
    }
   ],
   "source": [
    "# Checking column names before moving on, looks good\n",
    "hbo_merged.head()"
   ]
  },
  {
   "cell_type": "code",
   "execution_count": 442,
   "id": "e3cee8c1",
   "metadata": {},
   "outputs": [
    {
     "name": "stdout",
     "output_type": "stream",
     "text": [
      "             Director  Count\n",
      "0     Charlie Chaplin     22\n",
      "1             Sam Liu     18\n",
      "2          Jon Alpert     16\n",
      "3        Yasujirō Ozu     13\n",
      "4      Clint Eastwood     13\n",
      "5   Steven Soderbergh     12\n",
      "6        Satyajit Ray     12\n",
      "7        Ishirō Honda     10\n",
      "8      Ingmar Bergman     10\n",
      "9    Alexandra Pelosi     10\n",
      "10     Hayao Miyazaki     10\n"
     ]
    }
   ],
   "source": [
    "# Creating a list of the top 10 directors with the most credits on movies and tv shows (included 11 rows as there were\n",
    "# multiple directors with 10 credits to their name\n",
    "hbo_directors = hbo_merged['Director'].value_counts().reset_index()\n",
    "hbo_directors.columns = ['Director', 'Count']\n",
    "hbo_directors = hbo_directors.loc[0:10]\n",
    "print(hbo_directors)"
   ]
  },
  {
   "cell_type": "code",
   "execution_count": 443,
   "id": "623146cf",
   "metadata": {},
   "outputs": [
    {
     "name": "stdout",
     "output_type": "stream",
     "text": [
      "  Production Countries  Count\n",
      "0                   US   1730\n",
      "1                   GB    109\n",
      "2                   JP    102\n"
     ]
    }
   ],
   "source": [
    "# Creating a list of the top 3 countries based on where content was produced\n",
    "hbo_country = hbo_merged['Production Countries'].value_counts().reset_index()\n",
    "hbo_country.columns = ['Production Countries', 'Count']\n",
    "hbo_country = hbo_country.loc[0:2]\n",
    "print(hbo_country)"
   ]
  },
  {
   "cell_type": "markdown",
   "id": "fecb4cbd",
   "metadata": {},
   "source": [
    "# Exploratory Data Analysis"
   ]
  },
  {
   "cell_type": "code",
   "execution_count": 444,
   "id": "2590c49f",
   "metadata": {},
   "outputs": [
    {
     "data": {
      "image/png": "[encoded data removed]",
      "text/plain": [
       "<Figure size 640x480 with 1 Axes>"
      ]
     },
     "metadata": {},
     "output_type": "display_data"
    }
   ],
   "source": [
    "# Histogram showing the imdb rating of movies and tv shows on the platform\n",
    "sns.histplot(hbo_merged['IMDB Rating'], bins=40, color='m' )\n",
    "plt.show()"
   ]
  },
  {
   "cell_type": "code",
   "execution_count": 445,
   "id": "44e76e29",
   "metadata": {
    "scrolled": false
   },
   "outputs": [
    {
     "data": {
      "image/png": "[encoded data removed]",
      "text/plain": [
       "<Figure size 640x480 with 1 Axes>"
      ]
     },
     "metadata": {},
     "output_type": "display_data"
    }
   ],
   "source": [
    "# This chart shows the release year of content on the platform over time\n",
    "sns.histplot(hbo_merged['Release Year'], bins=50, color='g')\n",
    "plt.show()"
   ]
  },
  {
   "cell_type": "code",
   "execution_count": 446,
   "id": "7d4e6b8b",
   "metadata": {
    "scrolled": false
   },
   "outputs": [
    {
     "data": {
      "image/png": "[encoded data removed]",
      "text/plain": [
       "<Figure size 640x480 with 1 Axes>"
      ]
     },
     "metadata": {},
     "output_type": "display_data"
    }
   ],
   "source": [
    "# Chart showing the 11 directors with the most director credits on HBO Max\n",
    "sns.barplot(x = 'Count', y = 'Director', data = hbo_directors)\n",
    "plt.show()"
   ]
  },
  {
   "cell_type": "code",
   "execution_count": 447,
   "id": "2fc41b14",
   "metadata": {},
   "outputs": [
    {
     "data": {
      "image/png": "[encoded data removed]",
      "text/plain": [
       "<Figure size 1600x700 with 1 Axes>"
      ]
     },
     "metadata": {},
     "output_type": "display_data"
    }
   ],
   "source": [
    "# Line plot showing the average runtime of content on the platform by release year\n",
    "hbo_runtime = hbo_merged.groupby(['Release Year']).mean()\n",
    "hbo_runtime = hbo_runtime.sort_index()\n",
    "\n",
    "plt.figure(figsize=(16,7))\n",
    "sns.lineplot(x=hbo_runtime.index, y=hbo_runtime.Runtime.values)\n",
    "plt.box(on=None)\n",
    "\n",
    "plt.ylabel('Runtime')\n",
    "plt.xlabel('Release Year')\n",
    "plt.title('Content Duration over the Years', fontsize=15, color='black')\n",
    "plt.show()"
   ]
  },
  {
   "cell_type": "code",
   "execution_count": 449,
   "id": "c9e14473",
   "metadata": {},
   "outputs": [
    {
     "data": {
      "image/png": "[encoded data removed]",
      "text/plain": [
       "<Figure size 640x480 with 1 Axes>"
      ]
     },
     "metadata": {},
     "output_type": "display_data"
    }
   ],
   "source": [
    "# This chart shows the amount of Movies compared to the amount of TV Shows on the streaming service\n",
    "sns.histplot(data=hbo_df, x='Type', color='c')\n",
    "plt.show()"
   ]
  },
  {
   "cell_type": "code",
   "execution_count": 451,
   "id": "ba85afed",
   "metadata": {},
   "outputs": [
    {
     "data": {
      "image/png": "[encoded data removed]",
      "text/plain": [
       "<Figure size 640x480 with 1 Axes>"
      ]
     },
     "metadata": {},
     "output_type": "display_data"
    }
   ],
   "source": [
    "# Chart showing the top 3 countries where content on the platform was produced, this service is dominated by content\n",
    "# from the United States with well over half of the movies and tv shows on the platform being from that country\n",
    "sns.barplot(x = 'Count', y = 'Production Countries', data = hbo_country)\n",
    "plt.show()"
   ]
  }
 ],
 "metadata": {
  "kernelspec": {
   "display_name": "Python 3",
   "language": "python",
   "name": "python3"
  },
  "language_info": {
   "codemirror_mode": {
    "name": "ipython",
    "version": 3
   },
   "file_extension": ".py",
   "mimetype": "text/x-python",
   "name": "python",
   "nbconvert_exporter": "python",
   "pygments_lexer": "ipython3",
   "version": "3.8.8"
  }
 },
 "nbformat": 4,
 "nbformat_minor": 5
}
